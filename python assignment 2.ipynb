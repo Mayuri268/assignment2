{
 "cells": [
  {
   "cell_type": "code",
   "execution_count": 5,
   "metadata": {},
   "outputs": [
    {
     "data": {
      "text/plain": [
       "'\\n   *\\n   * *\\n   * * *\\n   * * * *\\n   * * * * *\\n   * * * *\\n   * * *\\n   * *\\n   *\\n'"
      ]
     },
     "execution_count": 5,
     "metadata": {},
     "output_type": "execute_result"
    }
   ],
   "source": [
    "##1. Create the below pattern using nested for loop in Python.\n",
    "\n",
    "'''\n",
    "   *\n",
    "   * *\n",
    "   * * *\n",
    "   * * * *\n",
    "   * * * * *\n",
    "   * * * *\n",
    "   * * *\n",
    "   * *\n",
    "   *\n",
    "'''\n"
   ]
  },
  {
   "cell_type": "code",
   "execution_count": 13,
   "metadata": {},
   "outputs": [
    {
     "name": "stdout",
     "output_type": "stream",
     "text": [
      "Enter the number of rows:5\n",
      "* \n",
      "* * \n",
      "* * * \n",
      "* * * * \n",
      "* * * * * \n",
      "* * * *  \n",
      "* * *  \n",
      "* *  \n",
      "*  \n",
      " \n"
     ]
    }
   ],
   "source": [
    "# This is the example of print simple pyramid pattern  \n",
    "n = int(input(\"Enter the number of rows:\"))  \n",
    "# outer loop to handle number of rows    \n",
    "for i in range (0,n):\n",
    "# inner loop to handle number of columns\n",
    "# values is changing according to outer loop  \n",
    "    for j in range (0,i+1):\n",
    "#printing stars\n",
    "        print(\"*\",end=\" \")\n",
    "# ending line after each row\n",
    "    print()\n",
    "#for the downward pyramid   \n",
    "for i in range(n, 0, -1):  \n",
    "    for j in range(0, i - 1):  \n",
    "        print(\"*\", end=' ')  \n",
    "    print(\" \")  "
   ]
  },
  {
   "cell_type": "code",
   "execution_count": 6,
   "metadata": {},
   "outputs": [
    {
     "name": "stdout",
     "output_type": "stream",
     "text": [
      "Enter the word:mayuri\n",
      "iruyam\n"
     ]
    }
   ],
   "source": [
    "#2. Write a Python program to reverse a word after accepting the input from the user.\n",
    "##Sample Output:\n",
    "#Input word: ineuron\n",
    "\n",
    "#Output: norueni\n",
    "\n",
    "str = input(\"Enter the word:\")\n",
    "print(str[::-1])\n"
   ]
  },
  {
   "cell_type": "code",
   "execution_count": 8,
   "metadata": {},
   "outputs": [
    {
     "name": "stdout",
     "output_type": "stream",
     "text": [
      "Enter the word:hello\n",
      "The original string is: hello\n",
      "The reverse string is: olleh\n"
     ]
    }
   ],
   "source": [
    "# Python program to reverse a string using for loop\n",
    "def rev_str(str):\n",
    " # declaring empty string to stroe the reverse string\n",
    "    str1 = \"\" \n",
    "    for i in str:\n",
    "        str1 = i+str1\n",
    "# returns the reverse string to the caller function\n",
    "    return str1 \n",
    "str =input(\"Enter the word:\") # take the input from the user\n",
    "print(\"The original string is:\",str)\n",
    "# function call\n",
    "print(\"The reverse string is:\",rev_str(str))"
   ]
  },
  {
   "cell_type": "code",
   "execution_count": null,
   "metadata": {},
   "outputs": [],
   "source": []
  }
 ],
 "metadata": {
  "kernelspec": {
   "display_name": "Python 3",
   "language": "python",
   "name": "python3"
  },
  "language_info": {
   "codemirror_mode": {
    "name": "ipython",
    "version": 3
   },
   "file_extension": ".py",
   "mimetype": "text/x-python",
   "name": "python",
   "nbconvert_exporter": "python",
   "pygments_lexer": "ipython3",
   "version": "3.7.1"
  }
 },
 "nbformat": 4,
 "nbformat_minor": 2
}
